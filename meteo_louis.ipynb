{
 "cells": [
  {
   "cell_type": "code",
   "execution_count": 262,
   "metadata": {
    "collapsed": true
   },
   "outputs": [],
   "source": [
    "# Importing dependencies\n",
    "import numpy as np\n",
    "import pandas as pd\n",
    "import json\n",
    "import datetime\n",
    "from datetime import datetime\n",
    "import time\n",
    "%matplotlib inline\n",
    "import matplotlib as mpl\n",
    "import matplotlib.pyplot as plt\n",
    "from datetime import datetime"
   ]
  },
  {
   "cell_type": "markdown",
   "metadata": {},
   "source": [
    "# Load data"
   ]
  },
  {
   "cell_type": "code",
   "execution_count": 263,
   "metadata": {
    "collapsed": false
   },
   "outputs": [],
   "source": [
    "path = '/Users/louis/Documents/Snips/snips_test/challenge_data/stations_data/paris_weather_20150831_20151130.jsonr'\n",
    "# open and read json\n",
    "raw_file = open(path).read()\n",
    "# load json\n",
    "raw_json = json.loads(raw_file)"
   ]
  },
  {
   "cell_type": "code",
   "execution_count": 264,
   "metadata": {
    "collapsed": false
   },
   "outputs": [],
   "source": [
    "# select only data \n",
    "meteo_data = [el['data'] for el in raw_json]\n",
    "#create dataframe\n",
    "data = pd.DataFrame(meteo_data)"
   ]
  },
  {
   "cell_type": "markdown",
   "metadata": {},
   "source": [
    "# Clean and convert dates"
   ]
  },
  {
   "cell_type": "code",
   "execution_count": 140,
   "metadata": {
    "collapsed": false
   },
   "outputs": [],
   "source": [
    "# ----- DATES\n",
    "# Method that takes a hash as input and returns a '%Y-%m-%d %H:%M:%S' formatted date\n",
    "def clean_date(date_hash):\n",
    "    ymd = '-'.join((date_hash['year'], date_hash['mon'], date_hash['mday']))\n",
    "    hms = ':'.join((date_hash['hour'], date_hash['min'], '00'))\n",
    "    date = ymd + ' ' + hms\n",
    "    return datetime.strptime(date, '%Y-%m-%d %H:%M:%S')\n",
    "\n",
    "# clean column utcdate\n",
    "data['utcdate'] = data['utcdate'].map(clean_date)"
   ]
  },
  {
   "cell_type": "code",
   "execution_count": 133,
   "metadata": {
    "collapsed": false
   },
   "outputs": [
    {
     "name": "stdout",
     "output_type": "stream",
     "text": [
      "<type 'datetime.datetime'>\n"
     ]
    }
   ],
   "source": [
    "date = data.loc[0,'utcdate']\n",
    "date = datetime.strptime(date, '%Y-%m-%d %H:%M:%S')\n",
    "print type(date)"
   ]
  },
  {
   "cell_type": "code",
   "execution_count": 191,
   "metadata": {
    "collapsed": true
   },
   "outputs": [
    {
     "name": "stdout",
     "output_type": "stream",
     "text": [
      "<class 'pandas.core.frame.DataFrame'>\n",
      "RangeIndex: 4416 entries, 0 to 4415\n",
      "Data columns (total 32 columns):\n",
      "conds         4416 non-null object\n",
      "date          4416 non-null object\n",
      "dewpti        4416 non-null object\n",
      "dewptm        4416 non-null object\n",
      "fog           4416 non-null object\n",
      "hail          4416 non-null object\n",
      "heatindexi    4416 non-null object\n",
      "heatindexm    4416 non-null object\n",
      "hum           4416 non-null object\n",
      "icon          4416 non-null object\n",
      "metar         4416 non-null object\n",
      "precipi       4416 non-null object\n",
      "precipm       4416 non-null object\n",
      "pressurei     4416 non-null object\n",
      "pressurem     4416 non-null object\n",
      "rain          4416 non-null object\n",
      "snow          4416 non-null object\n",
      "tempi         4416 non-null object\n",
      "tempm         4416 non-null object\n",
      "thunder       4416 non-null object\n",
      "tornado       4416 non-null object\n",
      "utcdate       4416 non-null datetime64[ns]\n",
      "visi          4416 non-null object\n",
      "vism          4416 non-null object\n",
      "wdird         4416 non-null object\n",
      "wdire         4416 non-null object\n",
      "wgusti        4416 non-null object\n",
      "wgustm        4416 non-null object\n",
      "windchilli    4416 non-null object\n",
      "windchillm    4416 non-null object\n",
      "wspdi         4416 non-null object\n",
      "wspdm         4416 non-null float64\n",
      "dtypes: datetime64[ns](1), float64(1), object(30)\n",
      "memory usage: 1.1+ MB\n"
     ]
    }
   ],
   "source": [
    "# ----- WIND SPEED\n",
    "data['wspdm'] = data['wspdm'].map(lambda x: float(x))\n",
    "data.info()"
   ]
  },
  {
   "cell_type": "code",
   "execution_count": 144,
   "metadata": {
    "collapsed": false
   },
   "outputs": [
    {
     "data": {
      "text/plain": [
       "array([u'conds', u'date', u'dewpti', u'dewptm', u'fog', u'hail',\n",
       "       u'heatindexi', u'heatindexm', u'hum', u'icon', u'metar', u'precipi',\n",
       "       u'precipm', u'pressurei', u'pressurem', u'rain', u'snow', u'tempi',\n",
       "       u'tempm', u'thunder', u'tornado', u'utcdate', u'visi', u'vism',\n",
       "       u'wdird', u'wdire', u'wgusti', u'wgustm', u'windchilli',\n",
       "       u'windchillm', u'wspdi', u'wspdm'], dtype=object)"
      ]
     },
     "execution_count": 144,
     "metadata": {},
     "output_type": "execute_result"
    }
   ],
   "source": [
    "data.columns.values"
   ]
  },
  {
   "cell_type": "markdown",
   "metadata": {},
   "source": [
    "# Check timespan and location"
   ]
  },
  {
   "cell_type": "code",
   "execution_count": 204,
   "metadata": {
    "collapsed": false
   },
   "outputs": [
    {
     "name": "stdout",
     "output_type": "stream",
     "text": [
      "timespan : 91 days 22:30:00\n"
     ]
    }
   ],
   "source": [
    "timespan = data['utcdate'].max() - data['utcdate'].min()\n",
    "print 'timespan : %s' %timespan"
   ]
  },
  {
   "cell_type": "code",
   "execution_count": 216,
   "metadata": {
    "collapsed": false
   },
   "outputs": [
    {
     "name": "stdout",
     "output_type": "stream",
     "text": [
      "all the dataset is only in Paris\n"
     ]
    }
   ],
   "source": [
    "array_loc = [el['tzname'] for el in data.loc[:,'date']]\n",
    "array_loc.count(array_loc[0]) == len(array_loc)\n",
    "print 'all the dataset is only in Paris'"
   ]
  },
  {
   "cell_type": "code",
   "execution_count": 261,
   "metadata": {
    "collapsed": false
   },
   "outputs": [
    {
     "name": "stdout",
     "output_type": "stream",
     "text": [
      "max date --> 2015-11-30 22:30:00\n",
      "min date --> 2015-08-31 00:00:00\n"
     ]
    }
   ],
   "source": [
    "print 'max date --> %s' %data['utcdate'].max()\n",
    "print 'min date --> %s' %data['utcdate'].min()"
   ]
  },
  {
   "cell_type": "markdown",
   "metadata": {},
   "source": [
    "# Check if conditions makes sense"
   ]
  },
  {
   "cell_type": "code",
   "execution_count": 153,
   "metadata": {
    "collapsed": false
   },
   "outputs": [
    {
     "data": {
      "text/plain": [
       "<matplotlib.axes._subplots.AxesSubplot at 0x11771b050>"
      ]
     },
     "execution_count": 153,
     "metadata": {},
     "output_type": "execute_result"
    },
    {
     "data": {
      "image/png": "[encoded data removed]",
      "text/plain": [
       "<matplotlib.figure.Figure at 0x11c204850>"
      ]
     },
     "metadata": {},
     "output_type": "display_data"
    }
   ],
   "source": [
    "data['conds'].value_counts(dropna = False).plot(kind='barh')"
   ]
  },
  {
   "cell_type": "code",
   "execution_count": 154,
   "metadata": {
    "collapsed": false
   },
   "outputs": [
    {
     "data": {
      "text/plain": [
       "<matplotlib.axes._subplots.AxesSubplot at 0x11c3bff90>"
      ]
     },
     "execution_count": 154,
     "metadata": {},
     "output_type": "execute_result"
    },
    {
     "data": {
      "image/png": "[encoded data removed]",
      "text/plain": [
       "<matplotlib.figure.Figure at 0x11adc5950>"
      ]
     },
     "metadata": {},
     "output_type": "display_data"
    }
   ],
   "source": [
    "data['rain'].value_counts(dropna=False).plot(kind='barh')"
   ]
  },
  {
   "cell_type": "code",
   "execution_count": 182,
   "metadata": {
    "collapsed": false
   },
   "outputs": [
    {
     "name": "stdout",
     "output_type": "stream",
     "text": [
      "il ne neige jamais\n"
     ]
    }
   ],
   "source": [
    "data['snow'].value_counts(dropna=False)\n",
    "print'il ne neige jamais'"
   ]
  },
  {
   "cell_type": "code",
   "execution_count": 181,
   "metadata": {
    "collapsed": false
   },
   "outputs": [
    {
     "name": "stdout",
     "output_type": "stream",
     "text": [
      "les précipitations n'ont pas de sens\n"
     ]
    }
   ],
   "source": [
    "data['precipm'].value_counts(dropna = False)\n",
    "print \"les précipitations n'ont pas de sens\""
   ]
  },
  {
   "cell_type": "code",
   "execution_count": 190,
   "metadata": {
    "collapsed": false
   },
   "outputs": [
    {
     "data": {
      "text/plain": [
       "11.1    547\n",
       "9.3     543\n",
       "5.6     399\n",
       "13.0    391\n",
       "14.8    380\n",
       "7.4     379\n",
       "3.7     324\n",
       "16.7    295\n",
       "18.5    256\n",
       "20.4    181\n",
       "0.0     162\n",
       "22.2    157\n",
       "24.1    107\n",
       "1.9      78\n",
       "25.9     77\n",
       "27.8     60\n",
       "29.6     34\n",
       "31.5     25\n",
       "33.3     10\n",
       "35.2      6\n",
       "38.9      3\n",
       "44.4      1\n",
       "37.0      1\n",
       "Name: wspdm, dtype: int64"
      ]
     },
     "execution_count": 190,
     "metadata": {},
     "output_type": "execute_result"
    }
   ],
   "source": [
    "data['wspdm'].value_counts(dropna = False)\n",
    "#print 'vitesse du vent potentiellement une feature'"
   ]
  },
  {
   "cell_type": "code",
   "execution_count": 188,
   "metadata": {
    "collapsed": false
   },
   "outputs": [
    {
     "name": "stdout",
     "output_type": "stream",
     "text": [
      "windchillm is mostly equal to 999, hence can be discarded\n"
     ]
    }
   ],
   "source": [
    "data['windchillm'].value_counts(dropna = False)\n",
    "print 'windchillm is mostly equal to 999, hence can be discarded'"
   ]
  },
  {
   "cell_type": "code",
   "execution_count": 199,
   "metadata": {
    "collapsed": false
   },
   "outputs": [
    {
     "name": "stdout",
     "output_type": "stream",
     "text": [
      "                                       wspdm\n",
      "conds                        rain           \n",
      "Clear                        0     11.215004\n",
      "Drizzle                      0      5.600000\n",
      "Fog                          0      6.819565\n",
      "Heavy Rain Showers           1     10.500000\n",
      "Light Drizzle                0     15.260526\n",
      "                             1     26.400000\n",
      "Light Fog                    0      5.600000\n",
      "Light Rain                   1     14.514815\n",
      "Light Rain Showers           1     18.909302\n",
      "Light Thunderstorms and Rain 1     11.100000\n",
      "Mist                         0      6.025000\n",
      "Mostly Cloudy                0     13.281104\n",
      "Overcast                     0     13.086076\n",
      "Partly Cloudy                0     10.431930\n",
      "Patches of Fog               0      2.551429\n",
      "Rain                         1     14.071875\n",
      "Rain Showers                 1     18.160000\n",
      "Scattered Clouds             0     13.722426\n",
      "Shallow Fog                  0      3.651786\n",
      "Unknown                      0      6.200000\n"
     ]
    }
   ],
   "source": [
    "pivot1 = pd.pivot_table(data, index = ['conds', 'rain'], values = ['wspdm'], aggfunc=np.mean)\n",
    "#pivot2 = pd.pivot_table(data, index = ['conds'], columns = ['wspdm'], aggfunc=np.mean)\n",
    "#pivot = pd.concat([pivot1, pivot2], axis = 1)\n",
    "#pivot = data.groupby(['conds','rain']).count().iloc[:,1]\n",
    "print pivot1"
   ]
  },
  {
   "cell_type": "code",
   "execution_count": 219,
   "metadata": {
    "collapsed": false
   },
   "outputs": [
    {
     "data": {
      "text/plain": [
       "array([u'conds', u'date', u'dewpti', u'dewptm', u'fog', u'hail',\n",
       "       u'heatindexi', u'heatindexm', u'hum', u'icon', u'metar', u'precipi',\n",
       "       u'precipm', u'pressurei', u'pressurem', u'rain', u'snow', u'tempi',\n",
       "       u'tempm', u'thunder', u'tornado', u'utcdate', u'visi', u'vism',\n",
       "       u'wdird', u'wdire', u'wgusti', u'wgustm', u'windchilli',\n",
       "       u'windchillm', u'wspdi', u'wspdm'], dtype=object)"
      ]
     },
     "execution_count": 219,
     "metadata": {},
     "output_type": "execute_result"
    }
   ],
   "source": [
    "data.columns.values"
   ]
  },
  {
   "cell_type": "markdown",
   "metadata": {},
   "source": [
    "# Resample dataset"
   ]
  },
  {
   "cell_type": "code",
   "execution_count": 227,
   "metadata": {
    "collapsed": false
   },
   "outputs": [],
   "source": [
    "# select a sub set of the dataframe\n",
    "wind_speed = data.loc[:, ['wspdm', 'utcdate']]"
   ]
  },
  {
   "cell_type": "code",
   "execution_count": 229,
   "metadata": {
    "collapsed": true
   },
   "outputs": [],
   "source": [
    "# Set utcdate as index\n",
    "wind_speed.set_index('utcdate', inplace = True)"
   ]
  },
  {
   "cell_type": "code",
   "execution_count": 230,
   "metadata": {
    "collapsed": false
   },
   "outputs": [
    {
     "data": {
      "text/html": [
       "<div>\n",
       "<table border=\"1\" class=\"dataframe\">\n",
       "  <thead>\n",
       "    <tr style=\"text-align: right;\">\n",
       "      <th></th>\n",
       "      <th>wspdm</th>\n",
       "    </tr>\n",
       "    <tr>\n",
       "      <th>utcdate</th>\n",
       "      <th></th>\n",
       "    </tr>\n",
       "  </thead>\n",
       "  <tbody>\n",
       "    <tr>\n",
       "      <th>2015-08-31 00:00:00</th>\n",
       "      <td>3.7</td>\n",
       "    </tr>\n",
       "    <tr>\n",
       "      <th>2015-08-31 00:30:00</th>\n",
       "      <td>3.7</td>\n",
       "    </tr>\n",
       "    <tr>\n",
       "      <th>2015-08-31 01:00:00</th>\n",
       "      <td>0.0</td>\n",
       "    </tr>\n",
       "    <tr>\n",
       "      <th>2015-08-31 01:30:00</th>\n",
       "      <td>5.6</td>\n",
       "    </tr>\n",
       "    <tr>\n",
       "      <th>2015-08-31 02:00:00</th>\n",
       "      <td>5.6</td>\n",
       "    </tr>\n",
       "  </tbody>\n",
       "</table>\n",
       "</div>"
      ],
      "text/plain": [
       "                     wspdm\n",
       "utcdate                   \n",
       "2015-08-31 00:00:00    3.7\n",
       "2015-08-31 00:30:00    3.7\n",
       "2015-08-31 01:00:00    0.0\n",
       "2015-08-31 01:30:00    5.6\n",
       "2015-08-31 02:00:00    5.6"
      ]
     },
     "execution_count": 230,
     "metadata": {},
     "output_type": "execute_result"
    }
   ],
   "source": [
    "wind_speed.head()"
   ]
  },
  {
   "cell_type": "code",
   "execution_count": 234,
   "metadata": {
    "collapsed": false
   },
   "outputs": [],
   "source": [
    "# you can either resample at a higher level of granulatity and hence need to aggregate (downsample)\n",
    "wind_speed_downsample = wind_speed.resample('60Min').mean()\n"
   ]
  },
  {
   "cell_type": "code",
   "execution_count": 235,
   "metadata": {
    "collapsed": false
   },
   "outputs": [
    {
     "data": {
      "text/html": [
       "<div>\n",
       "<table border=\"1\" class=\"dataframe\">\n",
       "  <thead>\n",
       "    <tr style=\"text-align: right;\">\n",
       "      <th></th>\n",
       "      <th>wspdm</th>\n",
       "    </tr>\n",
       "    <tr>\n",
       "      <th>utcdate</th>\n",
       "      <th></th>\n",
       "    </tr>\n",
       "  </thead>\n",
       "  <tbody>\n",
       "    <tr>\n",
       "      <th>2015-08-31 00:00:00</th>\n",
       "      <td>3.70</td>\n",
       "    </tr>\n",
       "    <tr>\n",
       "      <th>2015-08-31 01:00:00</th>\n",
       "      <td>2.80</td>\n",
       "    </tr>\n",
       "    <tr>\n",
       "      <th>2015-08-31 02:00:00</th>\n",
       "      <td>4.65</td>\n",
       "    </tr>\n",
       "    <tr>\n",
       "      <th>2015-08-31 03:00:00</th>\n",
       "      <td>2.80</td>\n",
       "    </tr>\n",
       "    <tr>\n",
       "      <th>2015-08-31 04:00:00</th>\n",
       "      <td>7.40</td>\n",
       "    </tr>\n",
       "  </tbody>\n",
       "</table>\n",
       "</div>"
      ],
      "text/plain": [
       "                     wspdm\n",
       "utcdate                   \n",
       "2015-08-31 00:00:00   3.70\n",
       "2015-08-31 01:00:00   2.80\n",
       "2015-08-31 02:00:00   4.65\n",
       "2015-08-31 03:00:00   2.80\n",
       "2015-08-31 04:00:00   7.40"
      ]
     },
     "execution_count": 235,
     "metadata": {},
     "output_type": "execute_result"
    }
   ],
   "source": [
    "wind_speed_downsample.head()"
   ]
  },
  {
   "cell_type": "code",
   "execution_count": 254,
   "metadata": {
    "collapsed": false
   },
   "outputs": [],
   "source": [
    "# Or resample at a lower level of granularity and hence extrapolate missing values (or leave NaNs)\n",
    "wind_speed_upsample = wind_speed.resample('15Min') #leaving NaNs"
   ]
  },
  {
   "cell_type": "code",
   "execution_count": 257,
   "metadata": {
    "collapsed": false
   },
   "outputs": [
    {
     "data": {
      "text/plain": [
       "array([u'conds', u'date', u'dewpti', u'dewptm', u'fog', u'hail',\n",
       "       u'heatindexi', u'heatindexm', u'hum', u'icon', u'metar', u'precipi',\n",
       "       u'precipm', u'pressurei', u'pressurem', u'rain', u'snow', u'tempi',\n",
       "       u'tempm', u'thunder', u'tornado', u'utcdate', u'visi', u'vism',\n",
       "       u'wdird', u'wdire', u'wgusti', u'wgustm', u'windchilli',\n",
       "       u'windchillm', u'wspdi', u'wspdm'], dtype=object)"
      ]
     },
     "execution_count": 257,
     "metadata": {},
     "output_type": "execute_result"
    }
   ],
   "source": [
    "data.columns.values"
   ]
  },
  {
   "cell_type": "code",
   "execution_count": 271,
   "metadata": {
    "collapsed": false
   },
   "outputs": [
    {
     "data": {
      "text/plain": [
       "-9999    4406\n",
       "82.3        4\n",
       "83.9        3\n",
       "81.5        2\n",
       "83.4        1\n",
       "Name: heatindexi, dtype: int64"
      ]
     },
     "execution_count": 271,
     "metadata": {},
     "output_type": "execute_result"
    }
   ],
   "source": [
    "data['heatindexi'].value_counts(dropna = False)"
   ]
  },
  {
   "cell_type": "markdown",
   "metadata": {},
   "source": [
    "## "
   ]
  }
 ],
 "metadata": {
  "kernelspec": {
   "display_name": "Python 2",
   "language": "python",
   "name": "python2"
  },
  "language_info": {
   "codemirror_mode": {
    "name": "ipython",
    "version": 2
   },
   "file_extension": ".py",
   "mimetype": "text/x-python",
   "name": "python",
   "nbconvert_exporter": "python",
   "pygments_lexer": "ipython2",
   "version": "2.7.10"
  }
 },
 "nbformat": 4,
 "nbformat_minor": 0
}
