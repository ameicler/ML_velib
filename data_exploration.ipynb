{
 "cells": [
  {
   "cell_type": "code",
   "execution_count": 60,
   "metadata": {
    "collapsed": true
   },
   "outputs": [],
   "source": [
    "#loading dependencies\n",
    "import numpy as np\n",
    "import math\n",
    "from pprint import pprint\n",
    "import random\n",
    "import operator\n",
    "%matplotlib inline\n",
    "import matplotlib as mpl\n",
    "\n",
    "import matplotlib.pyplot as plt\n",
    "import pandas as pd #this is how I usually import pandas\n",
    "import matplotlib #only needed to determine Matplotlib version number\n",
    "\n",
    "from os import listdir\n",
    "from os.path import isfile, join\n",
    "import csv\n",
    "\n",
    "import folium\n",
    "from IPython.display import HTML,IFrame\n",
    "\n",
    "import datetime"
   ]
  },
  {
   "cell_type": "code",
   "execution_count": 157,
   "metadata": {
    "collapsed": false
   },
   "outputs": [],
   "source": [
    "def to_datetime(timestamp):\n",
    "    return datetime.datetime.fromtimestamp(timestamp/1000).strftime('%Y-%m-%d %H:%M:%S')\n",
    "\n",
    "def load_data(path):   \n",
    "    # ==> Loading Merged Station Data\n",
    "    data = pd.read_json(path)\n",
    "    # ==> Converting timestamp to pandas timestamp datatype\n",
    "    data['last_update'] = data['last_update'].map(to_datetime)\n",
    "    data['last_update'] = pd.to_datetime(data['last_update'])\n",
    "    # ==> Rebuilding Multiindex\n",
    "    data.set_index([\"number\",'last_update'],inplace=True,drop=True)\n",
    "    # ==> Sort index by number & timestamp\n",
    "    data.sort_index(inplace=True)\n",
    "    return data"
   ]
  },
  {
   "cell_type": "code",
   "execution_count": 158,
   "metadata": {
    "collapsed": false
   },
   "outputs": [],
   "source": [
    "data = load_data('challenge_data/stations_merged.json')"
   ]
  },
  {
   "cell_type": "markdown",
   "metadata": {},
   "source": [
    "##### Null Data ?\n",
    "The dataset does not include any N/A datapoint"
   ]
  },
  {
   "cell_type": "code",
   "execution_count": 166,
   "metadata": {
    "collapsed": false
   },
   "outputs": [
    {
     "data": {
      "text/plain": [
       "address                  0\n",
       "available_bike_stands    0\n",
       "available_bikes          0\n",
       "banking                  0\n",
       "bike_stands              0\n",
       "bonus                    0\n",
       "contract_name            0\n",
       "index                    0\n",
       "lat                      0\n",
       "lng                      0\n",
       "name                     0\n",
       "status                   0\n",
       "dtype: int64"
      ]
     },
     "execution_count": 166,
     "metadata": {},
     "output_type": "execute_result"
    }
   ],
   "source": [
    "data.isnull().sum()"
   ]
  },
  {
   "cell_type": "markdown",
   "metadata": {},
   "source": [
    "### Static Data\n",
    "\n",
    "- ```number``` le numéro de la station. Attention, ce n'est pas un id, ce numéro n'est unique qu'au sein d'un contrat\n",
    "- ```contract_name``` le nom du contrat de cette station\n",
    "- ```name``` le nom de la station\n",
    "- ```address``` adresse indicative de la station, les données étant brutes, parfois il s'agit plus d'un commentaire que d'une adresse.\n",
    "- ```position``` les coordonnées au format WGS84\n",
    "- ```banking``` indique la présence d'un terminal de paiement\n",
    "- ```bonus``` indique s'il s'agit d'une station bonus\n",
    "- ```bike_stands``` is also considered static on the data set"
   ]
  },
  {
   "cell_type": "code",
   "execution_count": 167,
   "metadata": {
    "collapsed": false
   },
   "outputs": [
    {
     "data": {
      "text/html": [
       "<div>\n",
       "<table border=\"1\" class=\"dataframe\">\n",
       "  <thead>\n",
       "    <tr style=\"text-align: right;\">\n",
       "      <th></th>\n",
       "      <th>bike_stands</th>\n",
       "      <th>name</th>\n",
       "      <th>address</th>\n",
       "      <th>lat</th>\n",
       "      <th>lng</th>\n",
       "      <th>banking</th>\n",
       "      <th>bonus</th>\n",
       "    </tr>\n",
       "    <tr>\n",
       "      <th>number</th>\n",
       "      <th></th>\n",
       "      <th></th>\n",
       "      <th></th>\n",
       "      <th></th>\n",
       "      <th></th>\n",
       "      <th></th>\n",
       "      <th></th>\n",
       "    </tr>\n",
       "  </thead>\n",
       "  <tbody>\n",
       "    <tr>\n",
       "      <th>1010</th>\n",
       "      <td>25</td>\n",
       "      <td>01010 - PONT NEUF</td>\n",
       "      <td>10 RUE BOUCHER - 75001 PARIS</td>\n",
       "      <td>48.859462</td>\n",
       "      <td>2.344366</td>\n",
       "      <td>True</td>\n",
       "      <td>False</td>\n",
       "    </tr>\n",
       "    <tr>\n",
       "      <th>1012</th>\n",
       "      <td>22</td>\n",
       "      <td>01012 - BOURSE DU COMMERCE</td>\n",
       "      <td>FACE 29 RUE JEAN JACQUES ROUSSEAU - 75001 PARIS</td>\n",
       "      <td>48.862998</td>\n",
       "      <td>2.341555</td>\n",
       "      <td>True</td>\n",
       "      <td>False</td>\n",
       "    </tr>\n",
       "    <tr>\n",
       "      <th>1013</th>\n",
       "      <td>66</td>\n",
       "      <td>01013 - SAINT HONORE</td>\n",
       "      <td>186 RUE SAINT HONORE - 75001 PARIS</td>\n",
       "      <td>48.862430</td>\n",
       "      <td>2.338520</td>\n",
       "      <td>True</td>\n",
       "      <td>False</td>\n",
       "    </tr>\n",
       "    <tr>\n",
       "      <th>1014</th>\n",
       "      <td>25</td>\n",
       "      <td>01014 - RIVOLI MUSEE DU LOUVRE</td>\n",
       "      <td>5 RUE DE L'ECHELLE - 75001 PARIS</td>\n",
       "      <td>48.863672</td>\n",
       "      <td>2.334058</td>\n",
       "      <td>True</td>\n",
       "      <td>False</td>\n",
       "    </tr>\n",
       "    <tr>\n",
       "      <th>1015</th>\n",
       "      <td>20</td>\n",
       "      <td>01015 - PLACE ANDRE MALRAUX</td>\n",
       "      <td>2 PLACE ANDRE MALRAUX - 75001 PARIS</td>\n",
       "      <td>48.863980</td>\n",
       "      <td>2.335600</td>\n",
       "      <td>True</td>\n",
       "      <td>False</td>\n",
       "    </tr>\n",
       "  </tbody>\n",
       "</table>\n",
       "</div>"
      ],
      "text/plain": [
       "        bike_stands                            name  \\\n",
       "number                                                \n",
       "1010             25               01010 - PONT NEUF   \n",
       "1012             22      01012 - BOURSE DU COMMERCE   \n",
       "1013             66            01013 - SAINT HONORE   \n",
       "1014             25  01014 - RIVOLI MUSEE DU LOUVRE   \n",
       "1015             20     01015 - PLACE ANDRE MALRAUX   \n",
       "\n",
       "                                                address        lat       lng  \\\n",
       "number                                                                         \n",
       "1010                       10 RUE BOUCHER - 75001 PARIS  48.859462  2.344366   \n",
       "1012    FACE 29 RUE JEAN JACQUES ROUSSEAU - 75001 PARIS  48.862998  2.341555   \n",
       "1013                 186 RUE SAINT HONORE - 75001 PARIS  48.862430  2.338520   \n",
       "1014                   5 RUE DE L'ECHELLE - 75001 PARIS  48.863672  2.334058   \n",
       "1015                2 PLACE ANDRE MALRAUX - 75001 PARIS  48.863980  2.335600   \n",
       "\n",
       "       banking  bonus  \n",
       "number                 \n",
       "1010      True  False  \n",
       "1012      True  False  \n",
       "1013      True  False  \n",
       "1014      True  False  \n",
       "1015      True  False  "
      ]
     },
     "execution_count": 167,
     "metadata": {},
     "output_type": "execute_result"
    }
   ],
   "source": [
    "# ==> Building Station-related infos\n",
    "stations = data.groupby(level = \"number\").first()\n",
    "stations = stations[[\"bike_stands\",\"name\",\"address\",\"lat\",\"lng\",'banking','bonus']]\n",
    "stations.head()"
   ]
  },
  {
   "cell_type": "markdown",
   "metadata": {},
   "source": [
    "#### Number, contract_name, name and address\n",
    "N/A\n"
   ]
  },
  {
   "cell_type": "markdown",
   "metadata": {},
   "source": [
    "#### Bike Stands\n",
    "=> Very diverse number of stands depending on station type\n",
    "=> Predicting the number of available bikes might be dangerous"
   ]
  },
  {
   "cell_type": "code",
   "execution_count": 168,
   "metadata": {
    "collapsed": false
   },
   "outputs": [
    {
     "data": {
      "text/plain": [
       "True    45\n",
       "Name: is_static, dtype: int64"
      ]
     },
     "execution_count": 168,
     "metadata": {},
     "output_type": "execute_result"
    }
   ],
   "source": [
    "bike_stands = data.groupby(level=['number']).agg({'bike_stands':[np.min,np.max]})\n",
    "bike_stands.columns = bike_stands.columns.droplevel()\n",
    "bike_stands[\"is_static\"] = bike_stands[\"amin\"] == bike_stands[\"amax\"]\n",
    "bike_stands[\"is_static\"].value_counts()\n",
    "# => bike_stands do not evolve across time, considered a static variable"
   ]
  },
  {
   "cell_type": "code",
   "execution_count": 169,
   "metadata": {
    "collapsed": false
   },
   "outputs": [
    {
     "data": {
      "text/plain": [
       "<matplotlib.axes._subplots.AxesSubplot at 0x15f71b750>"
      ]
     },
     "execution_count": 169,
     "metadata": {},
     "output_type": "execute_result"
    },
    {
     "data": {
      "image/png": "[encoded data removed]",
      "text/plain": [
       "<matplotlib.figure.Figure at 0x15bdc3650>"
      ]
     },
     "metadata": {},
     "output_type": "display_data"
    }
   ],
   "source": [
    "stations[\"bike_stands\"].value_counts().sort_index(ascending=False).plot(kind='barh')"
   ]
  },
  {
   "cell_type": "code",
   "execution_count": 170,
   "metadata": {
    "collapsed": true
   },
   "outputs": [
    {
     "name": "stdout",
     "output_type": "stream",
     "text": [
      "[48.858663181591702, 2.331525463802405]\n"
     ]
    },
    {
     "name": "stderr",
     "output_type": "stream",
     "text": [
      "/Users/davidleroy/Documents/snips/venv/lib/python2.7/site-packages/ipykernel/__main__.py:11: FutureWarning: Map.create_map is deprecated. Use Map.save instead\n"
     ]
    },
    {
     "data": {
      "text/html": [
       "\n",
       "        <iframe\n",
       "            width=\"700\"\n",
       "            height=\"350\"\n",
       "            src=\"graphs/bike_stands_stations.html\"\n",
       "            frameborder=\"0\"\n",
       "            allowfullscreen\n",
       "        ></iframe>\n",
       "        "
      ],
      "text/plain": [
       "<IPython.lib.display.IFrame at 0x156abbed0>"
      ]
     },
     "execution_count": 170,
     "metadata": {},
     "output_type": "execute_result"
    }
   ],
   "source": [
    "def build_folium_map(stations,radius_metric,popup_col,map_path,radius_factor=2):\n",
    "    # ==> Center position for the Map\n",
    "    location_center = data[[\"lat\",'lng']].mean().tolist()\n",
    "    print location_center\n",
    "    # ==> Building the Map\n",
    "    paris_map = folium.Map(location=location_center,zoom_start=13, tiles='Stamen Toner')\n",
    "    # ==> Adding Stations\n",
    "    for (i,el) in stations.iterrows():\n",
    "        folium.CircleMarker([el[\"lat\"], el[\"lng\"]],radius=el[radius_metric]*radius_factor,popup= el[popup_col],color='#3186cc',fill_color='#3186cc').add_to(paris_map) \n",
    "    # ==> Saving to html file\n",
    "    paris_map.create_map(path=map_path)\n",
    "    \n",
    "# ==> Displaying html file in Iframe\n",
    "build_folium_map(stations,'bike_stands','name','graphs/bike_stands_stations.html')\n",
    "IFrame('graphs/bike_stands_stations.html', width=700, height=350)"
   ]
  },
  {
   "cell_type": "markdown",
   "metadata": {},
   "source": [
    "#### Location\n",
    "Only three districs, the 1st, 4th and 7th"
   ]
  },
  {
   "cell_type": "code",
   "execution_count": 171,
   "metadata": {
    "collapsed": false
   },
   "outputs": [],
   "source": [
    "import re\n",
    "\n",
    "def get_district(address):\n",
    "    m = re.search('.*(\\d{5}).*', address)\n",
    "    if m:\n",
    "        found = m.group(1)\n",
    "        return found[-2:]\n",
    "    \n",
    "stations[\"district\"] = stations[\"address\"].map(get_district)"
   ]
  },
  {
   "cell_type": "code",
   "execution_count": 172,
   "metadata": {
    "collapsed": false
   },
   "outputs": [
    {
     "data": {
      "text/plain": [
       "07    17\n",
       "01    16\n",
       "04    12\n",
       "Name: district, dtype: int64"
      ]
     },
     "execution_count": 172,
     "metadata": {},
     "output_type": "execute_result"
    }
   ],
   "source": [
    "stations[\"district\"].value_counts()"
   ]
  },
  {
   "cell_type": "markdown",
   "metadata": {},
   "source": [
    "#### Bonus Stations\n",
    "All stations are not bonus => could have been a good proxy for elevation"
   ]
  },
  {
   "cell_type": "code",
   "execution_count": 173,
   "metadata": {
    "collapsed": false
   },
   "outputs": [
    {
     "data": {
      "text/plain": [
       "False    45\n",
       "Name: bonus, dtype: int64"
      ]
     },
     "execution_count": 173,
     "metadata": {},
     "output_type": "execute_result"
    }
   ],
   "source": [
    "stations[\"bonus\"].value_counts()"
   ]
  },
  {
   "cell_type": "markdown",
   "metadata": {},
   "source": [
    "#### Banking Stations\n",
    "All station have a payment facility => not discriminatory"
   ]
  },
  {
   "cell_type": "code",
   "execution_count": 174,
   "metadata": {
    "collapsed": false
   },
   "outputs": [
    {
     "data": {
      "text/plain": [
       "True    45\n",
       "Name: banking, dtype: int64"
      ]
     },
     "execution_count": 174,
     "metadata": {},
     "output_type": "execute_result"
    }
   ],
   "source": [
    "stations[\"banking\"].value_counts()"
   ]
  },
  {
   "cell_type": "markdown",
   "metadata": {},
   "source": [
    "## About static data: key learnings\n",
    "\n",
    "- ```banking``` and  ```bonus``` columns can be removed since they do not provide any info\n",
    "- stations provided have a very diverse ```bike_stands```\n",
    "- only three districts are covered, the 1st,"
   ]
  },
  {
   "cell_type": "code",
   "execution_count": 175,
   "metadata": {
    "collapsed": true
   },
   "outputs": [],
   "source": [
    "del data[\"banking\"]\n",
    "del data[\"bonus\"]"
   ]
  },
  {
   "cell_type": "markdown",
   "metadata": {},
   "source": [
    "## Dynamic Data\n",
    "- ```status``` indique l'état de la station, peut être CLOSED ou OPEN\n",
    "- ```bike_stands``` le nombre de points d'attache opérationnels\n",
    "- ```available_bike_stands``` le nombre de points d'attache disponibles pour y ranger un vélo\n",
    "- ```available_bikes``` le nombre de vélos disponibles et opérationnels\n",
    "- ```last_update``` timestamp indiquant le moment de la dernière mise à jour en millisecondes depuis Epoch"
   ]
  },
  {
   "cell_type": "markdown",
   "metadata": {},
   "source": [
    "#### Understanding time indexing in data"
   ]
  },
  {
   "cell_type": "code",
   "execution_count": 211,
   "metadata": {
    "collapsed": false
   },
   "outputs": [
    {
     "data": {
      "text/html": [
       "<div>\n",
       "<table border=\"1\" class=\"dataframe\">\n",
       "  <thead>\n",
       "    <tr>\n",
       "      <th></th>\n",
       "      <th>name</th>\n",
       "      <th colspan=\"2\" halign=\"left\">last_update</th>\n",
       "    </tr>\n",
       "    <tr>\n",
       "      <th></th>\n",
       "      <th>len</th>\n",
       "      <th>amin</th>\n",
       "      <th>amax</th>\n",
       "    </tr>\n",
       "    <tr>\n",
       "      <th>number</th>\n",
       "      <th></th>\n",
       "      <th></th>\n",
       "      <th></th>\n",
       "    </tr>\n",
       "  </thead>\n",
       "  <tbody>\n",
       "    <tr>\n",
       "      <th>1010</th>\n",
       "      <td>15850</td>\n",
       "      <td>2015-09-01 01:51:43</td>\n",
       "      <td>2015-12-01 00:46:38</td>\n",
       "    </tr>\n",
       "    <tr>\n",
       "      <th>1012</th>\n",
       "      <td>16230</td>\n",
       "      <td>2015-09-01 01:52:59</td>\n",
       "      <td>2015-12-01 00:46:28</td>\n",
       "    </tr>\n",
       "    <tr>\n",
       "      <th>1013</th>\n",
       "      <td>18618</td>\n",
       "      <td>2015-09-01 01:49:03</td>\n",
       "      <td>2015-12-01 00:51:08</td>\n",
       "    </tr>\n",
       "    <tr>\n",
       "      <th>1014</th>\n",
       "      <td>15583</td>\n",
       "      <td>2015-09-01 01:51:24</td>\n",
       "      <td>2015-11-30 22:25:03</td>\n",
       "    </tr>\n",
       "    <tr>\n",
       "      <th>1015</th>\n",
       "      <td>17592</td>\n",
       "      <td>2015-09-01 01:51:12</td>\n",
       "      <td>2015-12-01 00:46:22</td>\n",
       "    </tr>\n",
       "  </tbody>\n",
       "</table>\n",
       "</div>"
      ],
      "text/plain": [
       "         name         last_update                    \n",
       "          len                amin                amax\n",
       "number                                               \n",
       "1010    15850 2015-09-01 01:51:43 2015-12-01 00:46:38\n",
       "1012    16230 2015-09-01 01:52:59 2015-12-01 00:46:28\n",
       "1013    18618 2015-09-01 01:49:03 2015-12-01 00:51:08\n",
       "1014    15583 2015-09-01 01:51:24 2015-11-30 22:25:03\n",
       "1015    17592 2015-09-01 01:51:12 2015-12-01 00:46:22"
      ]
     },
     "execution_count": 211,
     "metadata": {},
     "output_type": "execute_result"
    }
   ],
   "source": [
    "#### Looking at the time range\n",
    "date_range  = data.reset_index(level ='last_update').groupby(level='number').agg({'last_update':[np.min,np.max],'name':len})\n",
    "date_range.head()"
   ]
  },
  {
   "cell_type": "code",
   "execution_count": 212,
   "metadata": {
    "collapsed": false
   },
   "outputs": [
    {
     "name": "stdout",
     "output_type": "stream",
     "text": [
      "Min Start Date 2015-09-01 01:49:03\n",
      "Max Start Date 2015-09-01 01:59:04\n"
     ]
    }
   ],
   "source": [
    "#### Start datetime\n",
    "print 'Min Start Date %s' % date_range[(\"last_update\",'amin')].min()\n",
    "print 'Max Start Date %s' % date_range[(\"last_update\",'amin')].max()"
   ]
  },
  {
   "cell_type": "code",
   "execution_count": 213,
   "metadata": {
    "collapsed": false
   },
   "outputs": [
    {
     "name": "stdout",
     "output_type": "stream",
     "text": [
      "Min End Date 2015-11-30 22:25:03\n",
      "Max End Date 2015-12-01 00:54:43\n"
     ]
    }
   ],
   "source": [
    "#### End datetime\n",
    "print 'Min End Date %s' % date_range[(\"last_update\",'amax')].min()\n",
    "print 'Max End Date %s' % date_range[(\"last_update\",'amax')].max()"
   ]
  },
  {
   "cell_type": "code",
   "execution_count": 214,
   "metadata": {
    "collapsed": false
   },
   "outputs": [
    {
     "name": "stdout",
     "output_type": "stream",
     "text": [
      "Min range of days 90.8567013889\n",
      "Max range of days 90.9618171296\n"
     ]
    },
    {
     "data": {
      "image/png": "[encoded data removed]",
      "text/plain": [
       "<matplotlib.figure.Figure at 0x14e579110>"
      ]
     },
     "metadata": {},
     "output_type": "display_data"
    }
   ],
   "source": [
    "#### Number of Days\n",
    "date_range[\"day_range\"] = (date_range[('last_update','amax')] - date_range[('last_update','amin')])\n",
    "date_range[\"day_range\"] = date_range[\"day_range\"].dt.total_seconds()/(3600*24)\n",
    "date_range[\"day_range\"].plot(kind='density')\n",
    "print 'Min range of days %s' % date_range[\"day_range\"].min()\n",
    "print 'Max range of days %s' % date_range[\"day_range\"].max()"
   ]
  },
  {
   "cell_type": "markdown",
   "metadata": {},
   "source": [
    "=> Range covered accross stations is stable"
   ]
  },
  {
   "cell_type": "code",
   "execution_count": 215,
   "metadata": {
    "collapsed": false
   },
   "outputs": [
    {
     "data": {
      "text/plain": [
       "<matplotlib.axes._subplots.AxesSubplot at 0x14e00aad0>"
      ]
     },
     "execution_count": 215,
     "metadata": {},
     "output_type": "execute_result"
    },
    {
     "data": {
      "image/png": "[encoded data removed]",
      "text/plain": [
       "<matplotlib.figure.Figure at 0x14d6dcb90>"
      ]
     },
     "metadata": {},
     "output_type": "display_data"
    }
   ],
   "source": [
    "##### Number of Data Points\n",
    "date_range[('name','len')].plot(kind='density')"
   ]
  },
  {
   "cell_type": "markdown",
   "metadata": {},
   "source": [
    "=> Time series are irregular"
   ]
  },
  {
   "cell_type": "code",
   "execution_count": 223,
   "metadata": {
    "collapsed": false
   },
   "outputs": [
    {
     "data": {
      "text/plain": [
       "<matplotlib.axes._subplots.AxesSubplot at 0x14f0046d0>"
      ]
     },
     "execution_count": 223,
     "metadata": {},
     "output_type": "execute_result"
    },
    {
     "data": {
      "image/png": "[encoded data removed]",
      "text/plain": [
       "<matplotlib.figure.Figure at 0x1566e4b90>"
      ]
     },
     "metadata": {},
     "output_type": "display_data"
    }
   ],
   "source": [
    "date_range[\"mean_freq\"] =  date_range['day_range']/ date_range[(\"name\",\"len\")]*(24*60)\n",
    "date_range[\"mean_freq\"].plot(kind='density',title='Distribution of inter-sampling time accross stations (mins)')"
   ]
  },
  {
   "cell_type": "code",
   "execution_count": 268,
   "metadata": {
    "collapsed": false
   },
   "outputs": [],
   "source": [
    "data = data.reset_index()\n"
   ]
  },
  {
   "cell_type": "code",
   "execution_count": 270,
   "metadata": {
    "collapsed": false
   },
   "outputs": [
    {
     "data": {
      "text/html": [
       "<div>\n",
       "<table border=\"1\" class=\"dataframe\">\n",
       "  <thead>\n",
       "    <tr style=\"text-align: right;\">\n",
       "      <th></th>\n",
       "      <th>last_update</th>\n",
       "      <th>number</th>\n",
       "      <th>address</th>\n",
       "      <th>available_bike_stands</th>\n",
       "      <th>available_bikes</th>\n",
       "      <th>bike_stands</th>\n",
       "      <th>contract_name</th>\n",
       "      <th>index</th>\n",
       "      <th>lat</th>\n",
       "      <th>lng</th>\n",
       "      <th>name</th>\n",
       "      <th>status</th>\n",
       "    </tr>\n",
       "  </thead>\n",
       "  <tbody>\n",
       "    <tr>\n",
       "      <th>0</th>\n",
       "      <td>2015-09-01 01:51:43</td>\n",
       "      <td>1010</td>\n",
       "      <td>10 RUE BOUCHER - 75001 PARIS</td>\n",
       "      <td>25</td>\n",
       "      <td>0</td>\n",
       "      <td>25</td>\n",
       "      <td>Paris</td>\n",
       "      <td>14015</td>\n",
       "      <td>48.859462</td>\n",
       "      <td>2.344366</td>\n",
       "      <td>01010 - PONT NEUF</td>\n",
       "      <td>OPEN</td>\n",
       "    </tr>\n",
       "    <tr>\n",
       "      <th>1</th>\n",
       "      <td>2015-09-01 02:01:47</td>\n",
       "      <td>1010</td>\n",
       "      <td>10 RUE BOUCHER - 75001 PARIS</td>\n",
       "      <td>25</td>\n",
       "      <td>0</td>\n",
       "      <td>25</td>\n",
       "      <td>Paris</td>\n",
       "      <td>7503</td>\n",
       "      <td>48.859462</td>\n",
       "      <td>2.344366</td>\n",
       "      <td>01010 - PONT NEUF</td>\n",
       "      <td>OPEN</td>\n",
       "    </tr>\n",
       "    <tr>\n",
       "      <th>2</th>\n",
       "      <td>2015-09-01 02:11:50</td>\n",
       "      <td>1010</td>\n",
       "      <td>10 RUE BOUCHER - 75001 PARIS</td>\n",
       "      <td>25</td>\n",
       "      <td>0</td>\n",
       "      <td>25</td>\n",
       "      <td>Paris</td>\n",
       "      <td>12609</td>\n",
       "      <td>48.859462</td>\n",
       "      <td>2.344366</td>\n",
       "      <td>01010 - PONT NEUF</td>\n",
       "      <td>OPEN</td>\n",
       "    </tr>\n",
       "    <tr>\n",
       "      <th>3</th>\n",
       "      <td>2015-09-01 02:21:53</td>\n",
       "      <td>1010</td>\n",
       "      <td>10 RUE BOUCHER - 75001 PARIS</td>\n",
       "      <td>25</td>\n",
       "      <td>0</td>\n",
       "      <td>25</td>\n",
       "      <td>Paris</td>\n",
       "      <td>557</td>\n",
       "      <td>48.859462</td>\n",
       "      <td>2.344366</td>\n",
       "      <td>01010 - PONT NEUF</td>\n",
       "      <td>OPEN</td>\n",
       "    </tr>\n",
       "    <tr>\n",
       "      <th>4</th>\n",
       "      <td>2015-09-01 02:31:57</td>\n",
       "      <td>1010</td>\n",
       "      <td>10 RUE BOUCHER - 75001 PARIS</td>\n",
       "      <td>25</td>\n",
       "      <td>0</td>\n",
       "      <td>25</td>\n",
       "      <td>Paris</td>\n",
       "      <td>10262</td>\n",
       "      <td>48.859462</td>\n",
       "      <td>2.344366</td>\n",
       "      <td>01010 - PONT NEUF</td>\n",
       "      <td>OPEN</td>\n",
       "    </tr>\n",
       "  </tbody>\n",
       "</table>\n",
       "</div>"
      ],
      "text/plain": [
       "          last_update  number                       address  \\\n",
       "0 2015-09-01 01:51:43    1010  10 RUE BOUCHER - 75001 PARIS   \n",
       "1 2015-09-01 02:01:47    1010  10 RUE BOUCHER - 75001 PARIS   \n",
       "2 2015-09-01 02:11:50    1010  10 RUE BOUCHER - 75001 PARIS   \n",
       "3 2015-09-01 02:21:53    1010  10 RUE BOUCHER - 75001 PARIS   \n",
       "4 2015-09-01 02:31:57    1010  10 RUE BOUCHER - 75001 PARIS   \n",
       "\n",
       "   available_bike_stands  available_bikes  bike_stands contract_name  index  \\\n",
       "0                     25                0           25         Paris  14015   \n",
       "1                     25                0           25         Paris   7503   \n",
       "2                     25                0           25         Paris  12609   \n",
       "3                     25                0           25         Paris    557   \n",
       "4                     25                0           25         Paris  10262   \n",
       "\n",
       "         lat       lng               name status  \n",
       "0  48.859462  2.344366  01010 - PONT NEUF   OPEN  \n",
       "1  48.859462  2.344366  01010 - PONT NEUF   OPEN  \n",
       "2  48.859462  2.344366  01010 - PONT NEUF   OPEN  \n",
       "3  48.859462  2.344366  01010 - PONT NEUF   OPEN  \n",
       "4  48.859462  2.344366  01010 - PONT NEUF   OPEN  "
      ]
     },
     "execution_count": 270,
     "metadata": {},
     "output_type": "execute_result"
    }
   ],
   "source": [
    "del data[\"level_0\"]\n",
    "data.head()"
   ]
  },
  {
   "cell_type": "code",
   "execution_count": 318,
   "metadata": {
    "collapsed": false
   },
   "outputs": [],
   "source": [
    "bs_by_station = data.pivot_table(index='last_update', columns='number', values='available_bike_stands',aggfunc= np.mean)"
   ]
  },
  {
   "cell_type": "code",
   "execution_count": 319,
   "metadata": {
    "collapsed": false
   },
   "outputs": [
    {
     "data": {
      "text/html": [
       "<div>\n",
       "<table border=\"1\" class=\"dataframe\">\n",
       "  <thead>\n",
       "    <tr style=\"text-align: right;\">\n",
       "      <th>number</th>\n",
       "      <th>1010</th>\n",
       "      <th>1012</th>\n",
       "      <th>1013</th>\n",
       "      <th>1014</th>\n",
       "      <th>1015</th>\n",
       "      <th>1016</th>\n",
       "      <th>1017</th>\n",
       "      <th>1018</th>\n",
       "      <th>1019</th>\n",
       "      <th>1020</th>\n",
       "      <th>...</th>\n",
       "      <th>7017</th>\n",
       "      <th>7018</th>\n",
       "      <th>7019</th>\n",
       "      <th>7020</th>\n",
       "      <th>7021</th>\n",
       "      <th>7022</th>\n",
       "      <th>7023</th>\n",
       "      <th>7024</th>\n",
       "      <th>7025</th>\n",
       "      <th>7026</th>\n",
       "    </tr>\n",
       "    <tr>\n",
       "      <th>last_update</th>\n",
       "      <th></th>\n",
       "      <th></th>\n",
       "      <th></th>\n",
       "      <th></th>\n",
       "      <th></th>\n",
       "      <th></th>\n",
       "      <th></th>\n",
       "      <th></th>\n",
       "      <th></th>\n",
       "      <th></th>\n",
       "      <th></th>\n",
       "      <th></th>\n",
       "      <th></th>\n",
       "      <th></th>\n",
       "      <th></th>\n",
       "      <th></th>\n",
       "      <th></th>\n",
       "      <th></th>\n",
       "      <th></th>\n",
       "      <th></th>\n",
       "      <th></th>\n",
       "    </tr>\n",
       "  </thead>\n",
       "  <tbody>\n",
       "    <tr>\n",
       "      <th>2015-09-01 01:49:03</th>\n",
       "      <td>NaN</td>\n",
       "      <td>NaN</td>\n",
       "      <td>64.0</td>\n",
       "      <td>NaN</td>\n",
       "      <td>NaN</td>\n",
       "      <td>NaN</td>\n",
       "      <td>NaN</td>\n",
       "      <td>NaN</td>\n",
       "      <td>NaN</td>\n",
       "      <td>NaN</td>\n",
       "      <td>...</td>\n",
       "      <td>NaN</td>\n",
       "      <td>NaN</td>\n",
       "      <td>NaN</td>\n",
       "      <td>NaN</td>\n",
       "      <td>NaN</td>\n",
       "      <td>NaN</td>\n",
       "      <td>NaN</td>\n",
       "      <td>NaN</td>\n",
       "      <td>NaN</td>\n",
       "      <td>NaN</td>\n",
       "    </tr>\n",
       "    <tr>\n",
       "      <th>2015-09-01 01:49:13</th>\n",
       "      <td>NaN</td>\n",
       "      <td>NaN</td>\n",
       "      <td>NaN</td>\n",
       "      <td>NaN</td>\n",
       "      <td>NaN</td>\n",
       "      <td>NaN</td>\n",
       "      <td>NaN</td>\n",
       "      <td>NaN</td>\n",
       "      <td>NaN</td>\n",
       "      <td>NaN</td>\n",
       "      <td>...</td>\n",
       "      <td>NaN</td>\n",
       "      <td>NaN</td>\n",
       "      <td>NaN</td>\n",
       "      <td>NaN</td>\n",
       "      <td>NaN</td>\n",
       "      <td>NaN</td>\n",
       "      <td>NaN</td>\n",
       "      <td>NaN</td>\n",
       "      <td>NaN</td>\n",
       "      <td>NaN</td>\n",
       "    </tr>\n",
       "    <tr>\n",
       "      <th>2015-09-01 01:49:20</th>\n",
       "      <td>NaN</td>\n",
       "      <td>NaN</td>\n",
       "      <td>NaN</td>\n",
       "      <td>NaN</td>\n",
       "      <td>NaN</td>\n",
       "      <td>NaN</td>\n",
       "      <td>NaN</td>\n",
       "      <td>NaN</td>\n",
       "      <td>NaN</td>\n",
       "      <td>NaN</td>\n",
       "      <td>...</td>\n",
       "      <td>NaN</td>\n",
       "      <td>NaN</td>\n",
       "      <td>NaN</td>\n",
       "      <td>NaN</td>\n",
       "      <td>NaN</td>\n",
       "      <td>NaN</td>\n",
       "      <td>NaN</td>\n",
       "      <td>NaN</td>\n",
       "      <td>NaN</td>\n",
       "      <td>NaN</td>\n",
       "    </tr>\n",
       "    <tr>\n",
       "      <th>2015-09-01 01:49:25</th>\n",
       "      <td>NaN</td>\n",
       "      <td>NaN</td>\n",
       "      <td>NaN</td>\n",
       "      <td>NaN</td>\n",
       "      <td>NaN</td>\n",
       "      <td>NaN</td>\n",
       "      <td>NaN</td>\n",
       "      <td>NaN</td>\n",
       "      <td>NaN</td>\n",
       "      <td>NaN</td>\n",
       "      <td>...</td>\n",
       "      <td>NaN</td>\n",
       "      <td>NaN</td>\n",
       "      <td>NaN</td>\n",
       "      <td>NaN</td>\n",
       "      <td>NaN</td>\n",
       "      <td>NaN</td>\n",
       "      <td>NaN</td>\n",
       "      <td>NaN</td>\n",
       "      <td>NaN</td>\n",
       "      <td>NaN</td>\n",
       "    </tr>\n",
       "    <tr>\n",
       "      <th>2015-09-01 01:49:28</th>\n",
       "      <td>NaN</td>\n",
       "      <td>NaN</td>\n",
       "      <td>NaN</td>\n",
       "      <td>NaN</td>\n",
       "      <td>NaN</td>\n",
       "      <td>NaN</td>\n",
       "      <td>NaN</td>\n",
       "      <td>NaN</td>\n",
       "      <td>NaN</td>\n",
       "      <td>NaN</td>\n",
       "      <td>...</td>\n",
       "      <td>NaN</td>\n",
       "      <td>NaN</td>\n",
       "      <td>NaN</td>\n",
       "      <td>NaN</td>\n",
       "      <td>5.0</td>\n",
       "      <td>NaN</td>\n",
       "      <td>NaN</td>\n",
       "      <td>NaN</td>\n",
       "      <td>NaN</td>\n",
       "      <td>NaN</td>\n",
       "    </tr>\n",
       "  </tbody>\n",
       "</table>\n",
       "<p>5 rows × 45 columns</p>\n",
       "</div>"
      ],
      "text/plain": [
       "number               1010  1012  1013  1014  1015  1016  1017  1018  1019  \\\n",
       "last_update                                                                 \n",
       "2015-09-01 01:49:03   NaN   NaN  64.0   NaN   NaN   NaN   NaN   NaN   NaN   \n",
       "2015-09-01 01:49:13   NaN   NaN   NaN   NaN   NaN   NaN   NaN   NaN   NaN   \n",
       "2015-09-01 01:49:20   NaN   NaN   NaN   NaN   NaN   NaN   NaN   NaN   NaN   \n",
       "2015-09-01 01:49:25   NaN   NaN   NaN   NaN   NaN   NaN   NaN   NaN   NaN   \n",
       "2015-09-01 01:49:28   NaN   NaN   NaN   NaN   NaN   NaN   NaN   NaN   NaN   \n",
       "\n",
       "number               1020  ...   7017  7018  7019  7020  7021  7022  7023  \\\n",
       "last_update                ...                                              \n",
       "2015-09-01 01:49:03   NaN  ...    NaN   NaN   NaN   NaN   NaN   NaN   NaN   \n",
       "2015-09-01 01:49:13   NaN  ...    NaN   NaN   NaN   NaN   NaN   NaN   NaN   \n",
       "2015-09-01 01:49:20   NaN  ...    NaN   NaN   NaN   NaN   NaN   NaN   NaN   \n",
       "2015-09-01 01:49:25   NaN  ...    NaN   NaN   NaN   NaN   NaN   NaN   NaN   \n",
       "2015-09-01 01:49:28   NaN  ...    NaN   NaN   NaN   NaN   5.0   NaN   NaN   \n",
       "\n",
       "number               7024  7025  7026  \n",
       "last_update                            \n",
       "2015-09-01 01:49:03   NaN   NaN   NaN  \n",
       "2015-09-01 01:49:13   NaN   NaN   NaN  \n",
       "2015-09-01 01:49:20   NaN   NaN   NaN  \n",
       "2015-09-01 01:49:25   NaN   NaN   NaN  \n",
       "2015-09-01 01:49:28   NaN   NaN   NaN  \n",
       "\n",
       "[5 rows x 45 columns]"
      ]
     },
     "execution_count": 319,
     "metadata": {},
     "output_type": "execute_result"
    }
   ],
   "source": [
    "bs_by_station.head()"
   ]
  },
  {
   "cell_type": "code",
   "execution_count": 320,
   "metadata": {
    "collapsed": false
   },
   "outputs": [],
   "source": [
    "bs_by_station_30min = bs_by_station.resample('30min').mean() #.ffill()"
   ]
  },
  {
   "cell_type": "code",
   "execution_count": 321,
   "metadata": {
    "collapsed": false
   },
   "outputs": [
    {
     "data": {
      "text/html": [
       "<div>\n",
       "<table border=\"1\" class=\"dataframe\">\n",
       "  <thead>\n",
       "    <tr style=\"text-align: right;\">\n",
       "      <th>number</th>\n",
       "      <th>1010</th>\n",
       "      <th>1012</th>\n",
       "      <th>1013</th>\n",
       "      <th>1014</th>\n",
       "      <th>1015</th>\n",
       "      <th>1016</th>\n",
       "      <th>1017</th>\n",
       "      <th>1018</th>\n",
       "      <th>1019</th>\n",
       "      <th>1020</th>\n",
       "      <th>...</th>\n",
       "      <th>7017</th>\n",
       "      <th>7018</th>\n",
       "      <th>7019</th>\n",
       "      <th>7020</th>\n",
       "      <th>7021</th>\n",
       "      <th>7022</th>\n",
       "      <th>7023</th>\n",
       "      <th>7024</th>\n",
       "      <th>7025</th>\n",
       "      <th>7026</th>\n",
       "    </tr>\n",
       "    <tr>\n",
       "      <th>last_update</th>\n",
       "      <th></th>\n",
       "      <th></th>\n",
       "      <th></th>\n",
       "      <th></th>\n",
       "      <th></th>\n",
       "      <th></th>\n",
       "      <th></th>\n",
       "      <th></th>\n",
       "      <th></th>\n",
       "      <th></th>\n",
       "      <th></th>\n",
       "      <th></th>\n",
       "      <th></th>\n",
       "      <th></th>\n",
       "      <th></th>\n",
       "      <th></th>\n",
       "      <th></th>\n",
       "      <th></th>\n",
       "      <th></th>\n",
       "      <th></th>\n",
       "      <th></th>\n",
       "    </tr>\n",
       "  </thead>\n",
       "  <tbody>\n",
       "    <tr>\n",
       "      <th>2015-09-01 01:30:00</th>\n",
       "      <td>25.0</td>\n",
       "      <td>21.0</td>\n",
       "      <td>64.0</td>\n",
       "      <td>24.0</td>\n",
       "      <td>19.0</td>\n",
       "      <td>20.0</td>\n",
       "      <td>17.0</td>\n",
       "      <td>20.0</td>\n",
       "      <td>12.0</td>\n",
       "      <td>34.0</td>\n",
       "      <td>...</td>\n",
       "      <td>26.000000</td>\n",
       "      <td>3.0</td>\n",
       "      <td>19.000000</td>\n",
       "      <td>14.0</td>\n",
       "      <td>5.000000</td>\n",
       "      <td>64.0</td>\n",
       "      <td>19.000000</td>\n",
       "      <td>10.000000</td>\n",
       "      <td>19.000000</td>\n",
       "      <td>21.000000</td>\n",
       "    </tr>\n",
       "    <tr>\n",
       "      <th>2015-09-01 02:00:00</th>\n",
       "      <td>25.0</td>\n",
       "      <td>21.0</td>\n",
       "      <td>64.0</td>\n",
       "      <td>24.0</td>\n",
       "      <td>19.0</td>\n",
       "      <td>20.5</td>\n",
       "      <td>16.0</td>\n",
       "      <td>20.0</td>\n",
       "      <td>12.0</td>\n",
       "      <td>34.0</td>\n",
       "      <td>...</td>\n",
       "      <td>26.750000</td>\n",
       "      <td>3.0</td>\n",
       "      <td>20.166667</td>\n",
       "      <td>14.0</td>\n",
       "      <td>5.000000</td>\n",
       "      <td>64.0</td>\n",
       "      <td>20.500000</td>\n",
       "      <td>9.333333</td>\n",
       "      <td>19.333333</td>\n",
       "      <td>21.000000</td>\n",
       "    </tr>\n",
       "    <tr>\n",
       "      <th>2015-09-01 02:30:00</th>\n",
       "      <td>25.0</td>\n",
       "      <td>21.0</td>\n",
       "      <td>64.0</td>\n",
       "      <td>24.0</td>\n",
       "      <td>19.0</td>\n",
       "      <td>22.0</td>\n",
       "      <td>16.0</td>\n",
       "      <td>19.5</td>\n",
       "      <td>12.0</td>\n",
       "      <td>34.0</td>\n",
       "      <td>...</td>\n",
       "      <td>26.000000</td>\n",
       "      <td>3.0</td>\n",
       "      <td>21.000000</td>\n",
       "      <td>14.0</td>\n",
       "      <td>5.000000</td>\n",
       "      <td>64.0</td>\n",
       "      <td>35.666667</td>\n",
       "      <td>8.000000</td>\n",
       "      <td>20.000000</td>\n",
       "      <td>21.000000</td>\n",
       "    </tr>\n",
       "    <tr>\n",
       "      <th>2015-09-01 03:00:00</th>\n",
       "      <td>25.0</td>\n",
       "      <td>21.0</td>\n",
       "      <td>64.0</td>\n",
       "      <td>24.0</td>\n",
       "      <td>19.0</td>\n",
       "      <td>22.0</td>\n",
       "      <td>16.0</td>\n",
       "      <td>19.0</td>\n",
       "      <td>12.0</td>\n",
       "      <td>34.0</td>\n",
       "      <td>...</td>\n",
       "      <td>26.000000</td>\n",
       "      <td>3.0</td>\n",
       "      <td>21.200000</td>\n",
       "      <td>14.0</td>\n",
       "      <td>4.333333</td>\n",
       "      <td>64.0</td>\n",
       "      <td>40.000000</td>\n",
       "      <td>9.000000</td>\n",
       "      <td>19.750000</td>\n",
       "      <td>21.333333</td>\n",
       "    </tr>\n",
       "    <tr>\n",
       "      <th>2015-09-01 03:30:00</th>\n",
       "      <td>25.0</td>\n",
       "      <td>21.0</td>\n",
       "      <td>64.0</td>\n",
       "      <td>24.0</td>\n",
       "      <td>19.0</td>\n",
       "      <td>22.0</td>\n",
       "      <td>16.0</td>\n",
       "      <td>19.0</td>\n",
       "      <td>12.0</td>\n",
       "      <td>34.0</td>\n",
       "      <td>...</td>\n",
       "      <td>25.666667</td>\n",
       "      <td>3.0</td>\n",
       "      <td>22.000000</td>\n",
       "      <td>14.0</td>\n",
       "      <td>7.250000</td>\n",
       "      <td>64.0</td>\n",
       "      <td>41.000000</td>\n",
       "      <td>8.666667</td>\n",
       "      <td>19.000000</td>\n",
       "      <td>22.000000</td>\n",
       "    </tr>\n",
       "  </tbody>\n",
       "</table>\n",
       "<p>5 rows × 45 columns</p>\n",
       "</div>"
      ],
      "text/plain": [
       "number               1010  1012  1013  1014  1015  1016  1017  1018  1019  \\\n",
       "last_update                                                                 \n",
       "2015-09-01 01:30:00  25.0  21.0  64.0  24.0  19.0  20.0  17.0  20.0  12.0   \n",
       "2015-09-01 02:00:00  25.0  21.0  64.0  24.0  19.0  20.5  16.0  20.0  12.0   \n",
       "2015-09-01 02:30:00  25.0  21.0  64.0  24.0  19.0  22.0  16.0  19.5  12.0   \n",
       "2015-09-01 03:00:00  25.0  21.0  64.0  24.0  19.0  22.0  16.0  19.0  12.0   \n",
       "2015-09-01 03:30:00  25.0  21.0  64.0  24.0  19.0  22.0  16.0  19.0  12.0   \n",
       "\n",
       "number               1020    ...           7017  7018       7019  7020  \\\n",
       "last_update                  ...                                         \n",
       "2015-09-01 01:30:00  34.0    ...      26.000000   3.0  19.000000  14.0   \n",
       "2015-09-01 02:00:00  34.0    ...      26.750000   3.0  20.166667  14.0   \n",
       "2015-09-01 02:30:00  34.0    ...      26.000000   3.0  21.000000  14.0   \n",
       "2015-09-01 03:00:00  34.0    ...      26.000000   3.0  21.200000  14.0   \n",
       "2015-09-01 03:30:00  34.0    ...      25.666667   3.0  22.000000  14.0   \n",
       "\n",
       "number                   7021  7022       7023       7024       7025  \\\n",
       "last_update                                                            \n",
       "2015-09-01 01:30:00  5.000000  64.0  19.000000  10.000000  19.000000   \n",
       "2015-09-01 02:00:00  5.000000  64.0  20.500000   9.333333  19.333333   \n",
       "2015-09-01 02:30:00  5.000000  64.0  35.666667   8.000000  20.000000   \n",
       "2015-09-01 03:00:00  4.333333  64.0  40.000000   9.000000  19.750000   \n",
       "2015-09-01 03:30:00  7.250000  64.0  41.000000   8.666667  19.000000   \n",
       "\n",
       "number                    7026  \n",
       "last_update                     \n",
       "2015-09-01 01:30:00  21.000000  \n",
       "2015-09-01 02:00:00  21.000000  \n",
       "2015-09-01 02:30:00  21.000000  \n",
       "2015-09-01 03:00:00  21.333333  \n",
       "2015-09-01 03:30:00  22.000000  \n",
       "\n",
       "[5 rows x 45 columns]"
      ]
     },
     "execution_count": 321,
     "metadata": {},
     "output_type": "execute_result"
    }
   ],
   "source": [
    "bs_by_station_30min.head()"
   ]
  },
  {
   "cell_type": "code",
   "execution_count": 330,
   "metadata": {
    "collapsed": false
   },
   "outputs": [
    {
     "data": {
      "text/plain": [
       "<matplotlib.axes._subplots.AxesSubplot at 0x12722b110>"
      ]
     },
     "execution_count": 330,
     "metadata": {},
     "output_type": "execute_result"
    },
    {
     "data": {
      "image/png": "[encoded data removed]",
      "text/plain": [
       "<matplotlib.figure.Figure at 0x11b5692d0>"
      ]
     },
     "metadata": {},
     "output_type": "display_data"
    }
   ],
   "source": [
    "bs_by_station_30min.loc['09/01/2015':'09/10/2015',1010].plot()"
   ]
  },
  {
   "cell_type": "code",
   "execution_count": null,
   "metadata": {
    "collapsed": true
   },
   "outputs": [],
   "source": []
  }
 ],
 "metadata": {
  "kernelspec": {
   "display_name": "Python 2",
   "language": "python",
   "name": "python2"
  },
  "language_info": {
   "codemirror_mode": {
    "name": "ipython",
    "version": 2
   },
   "file_extension": ".py",
   "mimetype": "text/x-python",
   "name": "python",
   "nbconvert_exporter": "python",
   "pygments_lexer": "ipython2",
   "version": "2.7.10"
  }
 },
 "nbformat": 4,
 "nbformat_minor": 0
}
