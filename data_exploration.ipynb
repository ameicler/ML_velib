{
 "cells": [
  {
   "cell_type": "code",
   "execution_count": 16,
   "metadata": {
    "collapsed": true
   },
   "outputs": [],
   "source": [
    "#loading dependencies\n",
    "import numpy as np\n",
    "import math\n",
    "from pprint import pprint\n",
    "import random\n",
    "import operator\n",
    "%matplotlib inline\n",
    "import matplotlib as mpl\n",
    "\n",
    "import matplotlib.pyplot as plt\n",
    "import pandas as pd #this is how I usually import pandas\n",
    "import matplotlib #only needed to determine Matplotlib version number\n",
    "\n",
    "from os import listdir\n",
    "from os.path import isfile, join\n",
    "import csv"
   ]
  },
  {
   "cell_type": "code",
   "execution_count": 35,
   "metadata": {
    "collapsed": false
   },
   "outputs": [],
   "source": [
    "def load_data(path):   \n",
    "    # ==> Loading Merged Station Data\n",
    "    data = pd.read_json(path)\n",
    "    # ==> Rebuilding Multiindex\n",
    "    data.set_index([\"number\",'last_update'],inplace=True,drop=True)\n",
    "    # ==> Sort index by number & timestamp\n",
    "    data.sort_index(inplace=True)\n",
    "    return data"
   ]
  },
  {
   "cell_type": "code",
   "execution_count": 36,
   "metadata": {
    "collapsed": false
   },
   "outputs": [],
   "source": [
    "data = load_data('challenge_data/stations_merged.json')"
   ]
  },
  {
   "cell_type": "code",
   "execution_count": 31,
   "metadata": {
    "collapsed": false
   },
   "outputs": [
    {
     "data": {
      "text/plain": [
       "array([(1010, 1441065103000), (1010, 1441065707000), (1010, 1441066310000),\n",
       "       (1010, 1441066913000), (1010, 1441067517000), (1010, 1441068120000),\n",
       "       (1010, 1441068724000), (1010, 1441069327000), (1010, 1441069931000),\n",
       "       (1010, 1441070535000), (1010, 1441071138000), (1010, 1441071742000),\n",
       "       (1010, 1441072348000), (1010, 1441072952000), (1010, 1441073555000),\n",
       "       (1010, 1441074158000), (1010, 1441074762000), (1010, 1441075365000),\n",
       "       (1010, 1441075969000), (1010, 1441076572000), (1010, 1441077176000),\n",
       "       (1010, 1441077780000), (1010, 1441078383000), (1010, 1441078986000),\n",
       "       (1010, 1441079590000), (1010, 1441080194000), (1010, 1441080797000),\n",
       "       (1010, 1441081401000), (1010, 1441082004000), (1010, 1441082608000),\n",
       "       (1010, 1441083211000), (1010, 1441083815000), (1010, 1441084418000),\n",
       "       (1010, 1441085024000), (1010, 1441085424000), (1010, 1441086028000),\n",
       "       (1010, 1441086631000), (1010, 1441087736000), (1010, 1441088239000),\n",
       "       (1010, 1441088843000), (1010, 1441089004000), (1010, 1441089307000),\n",
       "       (1010, 1441089740000), (1010, 1441090137000), (1010, 1441090409000),\n",
       "       (1010, 1441090514000), (1010, 1441090773000), (1010, 1441091307000),\n",
       "       (1010, 1441091601000), (1010, 1441091917000), (1010, 1441092204000),\n",
       "       (1010, 1441092512000), (1010, 1441092984000), (1010, 1441093416000),\n",
       "       (1010, 1441093468000), (1010, 1441093975000), (1010, 1441094522000),\n",
       "       (1010, 1441095024000), (1010, 1441095628000), (1010, 1441096168000),\n",
       "       (1010, 1441096599000), (1010, 1441097005000), (1010, 1441097281000),\n",
       "       (1010, 1441097884000), (1010, 1441098842000), (1010, 1441099957000),\n",
       "       (1010, 1441100488000), (1010, 1441101212000), (1010, 1441101274000),\n",
       "       (1010, 1441101878000), (1010, 1441102294000), (1010, 1441102933000),\n",
       "       (1010, 1441103506000), (1010, 1441103682000), (1010, 1441103976000),\n",
       "       (1010, 1441104364000), (1010, 1441104799000), (1010, 1441105135000),\n",
       "       (1010, 1441105530000), (1010, 1441106033000), (1010, 1441106062000),\n",
       "       (1010, 1441106666000), (1010, 1441107436000), (1010, 1441107613000),\n",
       "       (1010, 1441107893000), (1010, 1441108421000), (1010, 1441108569000),\n",
       "       (1010, 1441109007000), (1010, 1441109227000), (1010, 1441109615000),\n",
       "       (1010, 1441110194000), (1010, 1441110827000), (1010, 1441110911000),\n",
       "       (1010, 1441111438000), (1010, 1441111979000), (1010, 1441112133000),\n",
       "       (1010, 1441112822000), (1010, 1441113347000), (1010, 1441113951000),\n",
       "       (1010, 1441114390000)], dtype=object)"
      ]
     },
     "execution_count": 31,
     "metadata": {},
     "output_type": "execute_result"
    }
   ],
   "source": [
    "data.index.values[0:100]"
   ]
  },
  {
   "cell_type": "code",
   "execution_count": null,
   "metadata": {
    "collapsed": true
   },
   "outputs": [],
   "source": []
  }
 ],
 "metadata": {
  "kernelspec": {
   "display_name": "Python 2",
   "language": "python",
   "name": "python2"
  },
  "language_info": {
   "codemirror_mode": {
    "name": "ipython",
    "version": 2
   },
   "file_extension": ".py",
   "mimetype": "text/x-python",
   "name": "python",
   "nbconvert_exporter": "python",
   "pygments_lexer": "ipython2",
   "version": "2.7.10"
  }
 },
 "nbformat": 4,
 "nbformat_minor": 0
}
